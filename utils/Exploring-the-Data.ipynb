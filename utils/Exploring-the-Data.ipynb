{
 "cells": [
  {
   "cell_type": "markdown",
   "metadata": {},
   "source": [
    "# Exploring the Data"
   ]
  },
  {
   "cell_type": "code",
   "execution_count": 1,
   "metadata": {},
   "outputs": [],
   "source": [
    "import sys\n",
    "sys.path.append('../')"
   ]
  },
  {
   "cell_type": "code",
   "execution_count": 19,
   "metadata": {},
   "outputs": [],
   "source": [
    "import matplotlib.pyplot as plt\n",
    "import numpy as np\n",
    "import torch\n",
    "\n",
    "from utils import load_en_fr"
   ]
  },
  {
   "cell_type": "code",
   "execution_count": 3,
   "metadata": {},
   "outputs": [
    {
     "name": "stdout",
     "output_type": "stream",
     "text": [
      "processing english...\n",
      "[1/3] preprocessing\n",
      "[2/3] building vocab\n",
      "[3/3] processing\n",
      "processing french...\n",
      "[1/3] preprocessing\n",
      "[2/3] building vocab\n",
      "[3/3] processing\n",
      "Processing took: 70.92m\n"
     ]
    }
   ],
   "source": [
    "dataset, EN, FR = load_en_fr(root='..', mini=False)"
   ]
  },
  {
   "cell_type": "code",
   "execution_count": 4,
   "metadata": {},
   "outputs": [
    {
     "name": "stdout",
     "output_type": "stream",
     "text": [
      "Total # Examples: \t2007724\n",
      "Total # English Tokens:\t133955\n",
      "Total # French Tokens\t163855\n"
     ]
    }
   ],
   "source": [
    "print(f'Total # Examples: \\t{len(dataset)}')\n",
    "print(f'Total # English Tokens:\\t{len(EN.vocab.stoi)}')\n",
    "print(f'Total # French Tokens\\t{len(FR.vocab.stoi)}')\n"
   ]
  },
  {
   "cell_type": "markdown",
   "metadata": {},
   "source": [
    "## Sentence Lengths"
   ]
  },
  {
   "cell_type": "code",
   "execution_count": 20,
   "metadata": {},
   "outputs": [],
   "source": [
    "pad_idx = EN.vocab.stoi[EN.pad_token]\n",
    "quantile_keys = [0.25, 0.5, 0.75, 0.9, 0.95, 0.99, 0.999]"
   ]
  },
  {
   "cell_type": "code",
   "execution_count": 8,
   "metadata": {},
   "outputs": [
    {
     "name": "stdout",
     "output_type": "stream",
     "text": [
      "Longest Sentence:\t881\n",
      "Shortest Sentence:\t1\n",
      "Mean Sentence Length:\t28.757727157716896\n"
     ]
    },
    {
     "data": {
      "image/png": "[encoded data removed]",
      "text/plain": [
       "<Figure size 432x288 with 1 Axes>"
      ]
     },
     "metadata": {
      "needs_background": "light"
     },
     "output_type": "display_data"
    }
   ],
   "source": [
    "# Length of English Sentences. Note this includes eos token.\n",
    "\n",
    "en_tensor = dataset.tensors[0]\n",
    "en_mask = en_tensor != pad_idx\n",
    "en_sample_lens = en_mask.sum(axis=1)\n",
    "_ = plt.hist(en_sample_lens)\n",
    "\n",
    "print(f'Longest Sentence:\\t{en_sample_lens.max()}')\n",
    "print(f'Shortest Sentence:\\t{en_sample_lens.min()}')\n",
    "print(f'Mean Sentence Length:\\t{en_sample_lens.type(torch.DoubleTensor).mean()}')\n"
   ]
  },
  {
   "cell_type": "code",
   "execution_count": 21,
   "metadata": {},
   "outputs": [
    {
     "name": "stdout",
     "output_type": "stream",
     "text": [
      "Quantile 25.0%: 17.0\n",
      "Quantile 50.0%: 26.0\n",
      "Quantile 75.0%: 37.0\n",
      "Quantile 90.0%: 50.0\n",
      "Quantile 95.0%: 59.0\n",
      "Quantile 99.0%: 82.0\n",
      "Quantile 99.9%: 121.0\n"
     ]
    }
   ],
   "source": [
    "en_sample_lens_np = en_sample_lens.numpy()\n",
    "en_qs = {q:np.quantile(en_sample_lens_np, q) for q in quantile_keys}\n",
    "\n",
    "for q, v in en_qs.items():\n",
    "    print(f'Quantile {(q*100):.01f}%: {v}')\n"
   ]
  },
  {
   "cell_type": "code",
   "execution_count": 9,
   "metadata": {},
   "outputs": [
    {
     "name": "stdout",
     "output_type": "stream",
     "text": [
      "Longest Sentence:\t935\n",
      "Shortest Sentence:\t1\n",
      "Mean Sentence Length:\t31.82741352895119\n"
     ]
    },
    {
     "data": {
      "image/png": "[encoded data removed]",
      "text/plain": [
       "<Figure size 432x288 with 1 Axes>"
      ]
     },
     "metadata": {
      "needs_background": "light"
     },
     "output_type": "display_data"
    }
   ],
   "source": [
    "fr_tensor = dataset.tensors[1]\n",
    "fr_mask = fr_tensor != pad_idx\n",
    "fr_sample_lens = fr_mask.sum(axis=1)\n",
    "_ = plt.hist(fr_sample_lens)\n",
    "\n",
    "print(f'Longest Sentence:\\t{fr_sample_lens.max()}')\n",
    "print(f'Shortest Sentence:\\t{fr_sample_lens.min()}')\n",
    "print(f'Mean Sentence Length:\\t{fr_sample_lens.type(torch.DoubleTensor).mean()}')\n"
   ]
  },
  {
   "cell_type": "code",
   "execution_count": 22,
   "metadata": {},
   "outputs": [
    {
     "name": "stdout",
     "output_type": "stream",
     "text": [
      "Quantile 25.0%: 19.0\n",
      "Quantile 50.0%: 28.0\n",
      "Quantile 75.0%: 41.0\n",
      "Quantile 90.0%: 55.0\n",
      "Quantile 95.0%: 66.0\n",
      "Quantile 99.0%: 91.0\n",
      "Quantile 99.9%: 135.0\n"
     ]
    }
   ],
   "source": [
    "fr_sample_lens_np = fr_sample_lens.numpy()\n",
    "fr_qs = {q:np.quantile(fr_sample_lens_np, q) for q in quantile_keys}\n",
    "\n",
    "for q, v in fr_qs.items():\n",
    "    print(f'Quantile {(q*100):.01f}%: {v}')\n"
   ]
  },
  {
   "cell_type": "code",
   "execution_count": null,
   "metadata": {},
   "outputs": [],
   "source": []
  }
 ],
 "metadata": {
  "kernelspec": {
   "display_name": "Python 3",
   "language": "python",
   "name": "python3"
  },
  "language_info": {
   "codemirror_mode": {
    "name": "ipython",
    "version": 3
   },
   "file_extension": ".py",
   "mimetype": "text/x-python",
   "name": "python",
   "nbconvert_exporter": "python",
   "pygments_lexer": "ipython3",
   "version": "3.7.7"
  }
 },
 "nbformat": 4,
 "nbformat_minor": 4
}
